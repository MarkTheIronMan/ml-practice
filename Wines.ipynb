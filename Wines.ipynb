{
 "cells": [
  {
   "cell_type": "code",
   "execution_count": 3,
   "metadata": {},
   "outputs": [],
   "source": [
    "import pandas as pd"
   ]
  },
  {
   "cell_type": "code",
   "execution_count": 106,
   "metadata": {},
   "outputs": [],
   "source": [
    "import numpy as np"
   ]
  },
  {
   "cell_type": "code",
   "execution_count": 252,
   "metadata": {},
   "outputs": [],
   "source": [
    "from sklearn.model_selection import KFold"
   ]
  },
  {
   "cell_type": "code",
   "execution_count": 253,
   "metadata": {},
   "outputs": [],
   "source": [
    "from sklearn.model_selection import cross_val_score"
   ]
  },
  {
   "cell_type": "code",
   "execution_count": 254,
   "metadata": {},
   "outputs": [],
   "source": [
    "from sklearn.metrics import accuracy_score"
   ]
  },
  {
   "cell_type": "code",
   "execution_count": 302,
   "metadata": {},
   "outputs": [],
   "source": [
    "from sklearn.preprocessing import *"
   ]
  },
  {
   "cell_type": "code",
   "execution_count": 303,
   "metadata": {},
   "outputs": [],
   "source": [
    "data = pd.read_csv('wine.csv')"
   ]
  },
  {
   "cell_type": "code",
   "execution_count": 304,
   "metadata": {},
   "outputs": [],
   "source": [
    "y = data['Class']"
   ]
  },
  {
   "cell_type": "code",
   "execution_count": 305,
   "metadata": {},
   "outputs": [],
   "source": [
    "X =  data.loc[:, data.columns != 'Class']"
   ]
  },
  {
   "cell_type": "code",
   "execution_count": 306,
   "metadata": {},
   "outputs": [],
   "source": [
    "kf = KFold(n_splits=5, random_state=42, shuffle=True)"
   ]
  },
  {
   "cell_type": "code",
   "execution_count": 307,
   "metadata": {},
   "outputs": [],
   "source": [
    "kMeans = list()\n",
    "for k in range(1, 51):\n",
    "    kn = KNeighborsClassifier(n_neighbors=k)\n",
    "    kn.fit(X, y);\n",
    "    array = cross_val_score(estimator=kn, X=X, y=y, cv=kf, scoring='accuracy')\n",
    "    m = array.mean()\n",
    "    kMeans.append(m)   "
   ]
  },
  {
   "cell_type": "code",
   "execution_count": 308,
   "metadata": {},
   "outputs": [
    {
     "data": {
      "text/plain": [
       "[0.7304761904761905,\n",
       " 0.6625396825396825,\n",
       " 0.7082539682539682,\n",
       " 0.6577777777777778,\n",
       " 0.6746031746031746,\n",
       " 0.6742857142857144,\n",
       " 0.68,\n",
       " 0.6799999999999999,\n",
       " 0.7023809523809523,\n",
       " 0.6801587301587302,\n",
       " 0.7025396825396826,\n",
       " 0.6966666666666667,\n",
       " 0.6909523809523809,\n",
       " 0.6793650793650794,\n",
       " 0.701904761904762,\n",
       " 0.6795238095238096,\n",
       " 0.7015873015873015,\n",
       " 0.6795238095238095,\n",
       " 0.6793650793650793,\n",
       " 0.6909523809523809,\n",
       " 0.7019047619047619,\n",
       " 0.6965079365079364,\n",
       " 0.7020634920634921,\n",
       " 0.7076190476190476,\n",
       " 0.7019047619047619,\n",
       " 0.6965079365079365,\n",
       " 0.6963492063492064,\n",
       " 0.7079365079365079,\n",
       " 0.7134920634920634,\n",
       " 0.7079365079365079,\n",
       " 0.690952380952381,\n",
       " 0.7134920634920634,\n",
       " 0.7134920634920634,\n",
       " 0.7246031746031747,\n",
       " 0.7246031746031747,\n",
       " 0.7134920634920636,\n",
       " 0.7134920634920634,\n",
       " 0.7134920634920634,\n",
       " 0.7079365079365079,\n",
       " 0.7077777777777777,\n",
       " 0.7134920634920634,\n",
       " 0.7077777777777777,\n",
       " 0.7077777777777777,\n",
       " 0.7077777777777777,\n",
       " 0.7077777777777777,\n",
       " 0.7077777777777777,\n",
       " 0.6966666666666667,\n",
       " 0.7190476190476192,\n",
       " 0.6966666666666667,\n",
       " 0.7077777777777777]"
      ]
     },
     "execution_count": 308,
     "metadata": {},
     "output_type": "execute_result"
    }
   ],
   "source": [
    "kMeans"
   ]
  },
  {
   "cell_type": "code",
   "execution_count": 309,
   "metadata": {},
   "outputs": [],
   "source": [
    "X_scaled = preprocessing.scale(X)"
   ]
  },
  {
   "cell_type": "code",
   "execution_count": 310,
   "metadata": {},
   "outputs": [],
   "source": [
    "kMeans = list()\n",
    "for k in range(1, 51):\n",
    "    kn = KNeighborsClassifier(n_neighbors=k)\n",
    "    kn.fit(X, y);\n",
    "    array = cross_val_score(estimator=kn, X=X_scaled, y=y, cv=kf, scoring='accuracy')\n",
    "    m = array.mean()\n",
    "    kMeans.append(m)  "
   ]
  },
  {
   "cell_type": "code",
   "execution_count": 311,
   "metadata": {},
   "outputs": [
    {
     "name": "stdout",
     "output_type": "stream",
     "text": [
      "29\n"
     ]
    }
   ],
   "source": [
    "m = max(kMeans)\n",
    "indices = [i for i, j in enumerate(kMeans) if j == m]\n",
    " \n",
    "print (indices[0]+1)"
   ]
  },
  {
   "cell_type": "code",
   "execution_count": 312,
   "metadata": {},
   "outputs": [
    {
     "data": {
      "text/plain": [
       "0.9776190476190475"
      ]
     },
     "execution_count": 312,
     "metadata": {},
     "output_type": "execute_result"
    }
   ],
   "source": [
    "m"
   ]
  },
  {
   "cell_type": "code",
   "execution_count": 313,
   "metadata": {},
   "outputs": [
    {
     "data": {
      "text/plain": [
       "[0.943968253968254,\n",
       " 0.9328571428571429,\n",
       " 0.9550793650793651,\n",
       " 0.9382539682539683,\n",
       " 0.9493650793650794,\n",
       " 0.9495238095238095,\n",
       " 0.9495238095238095,\n",
       " 0.9552380952380952,\n",
       " 0.9607936507936508,\n",
       " 0.9607936507936508,\n",
       " 0.9609523809523809,\n",
       " 0.9552380952380952,\n",
       " 0.9495238095238093,\n",
       " 0.9663492063492063,\n",
       " 0.9720634920634922,\n",
       " 0.9720634920634922,\n",
       " 0.9665079365079364,\n",
       " 0.9665079365079364,\n",
       " 0.9553968253968254,\n",
       " 0.9665079365079364,\n",
       " 0.9609523809523811,\n",
       " 0.9665079365079364,\n",
       " 0.9609523809523809,\n",
       " 0.9552380952380952,\n",
       " 0.9552380952380952,\n",
       " 0.9607936507936508,\n",
       " 0.9552380952380952,\n",
       " 0.9663492063492063,\n",
       " 0.9776190476190475,\n",
       " 0.9607936507936508,\n",
       " 0.9552380952380952,\n",
       " 0.9607936507936508,\n",
       " 0.9663492063492063,\n",
       " 0.9663492063492063,\n",
       " 0.9607936507936508,\n",
       " 0.9607936507936508,\n",
       " 0.9552380952380952,\n",
       " 0.9607936507936508,\n",
       " 0.9607936507936508,\n",
       " 0.9607936507936508,\n",
       " 0.9663492063492063,\n",
       " 0.9607936507936508,\n",
       " 0.9663492063492063,\n",
       " 0.9606349206349206,\n",
       " 0.9663492063492063,\n",
       " 0.9495238095238095,\n",
       " 0.9550793650793651,\n",
       " 0.9495238095238095,\n",
       " 0.9550793650793651,\n",
       " 0.9606349206349206]"
      ]
     },
     "execution_count": 313,
     "metadata": {},
     "output_type": "execute_result"
    }
   ],
   "source": [
    "kMeans"
   ]
  },
  {
   "cell_type": "code",
   "execution_count": null,
   "metadata": {},
   "outputs": [],
   "source": []
  },
  {
   "cell_type": "code",
   "execution_count": null,
   "metadata": {},
   "outputs": [],
   "source": []
  }
 ],
 "metadata": {
  "kernelspec": {
   "display_name": "Python 3",
   "language": "python",
   "name": "python3"
  },
  "language_info": {
   "codemirror_mode": {
    "name": "ipython",
    "version": 3
   },
   "file_extension": ".py",
   "mimetype": "text/x-python",
   "name": "python",
   "nbconvert_exporter": "python",
   "pygments_lexer": "ipython3",
   "version": "3.7.4"
  }
 },
 "nbformat": 4,
 "nbformat_minor": 2
}
